{
 "cells": [
  {
   "cell_type": "code",
   "execution_count": 1,
   "id": "2edd8247",
   "metadata": {},
   "outputs": [
    {
     "name": "stdout",
     "output_type": "stream",
     "text": [
      "( 1 2 3 )\n"
     ]
    }
   ],
   "source": [
    "class Point3D :\n",
    "    def __init__(self, x, y, z):\n",
    "        self.x = x\n",
    "        self.y = y\n",
    "        self.z = z\n",
    "    \n",
    "    def appeler(self):\n",
    "        print('(', self.x, self.y, self.z, ')')\n",
    "        \n",
    "my_point = Point3D(1, 2, 3)\n",
    "my_point.appeler()"
   ]
  },
  {
   "cell_type": "code",
   "execution_count": 6,
   "id": "21a15407",
   "metadata": {},
   "outputs": [
    {
     "name": "stdout",
     "output_type": "stream",
     "text": [
      "area of rectangle is : 12\n",
      "perimeter of rectangle is : 14\n"
     ]
    }
   ],
   "source": [
    "class rectangle :\n",
    "    def __init__(self, length, width):\n",
    "        self.length = length\n",
    "        self.width = width\n",
    "        \n",
    "    def area(self) : \n",
    "        print('area of rectangle is :', self.length * self.width)\n",
    "        \n",
    "    def perimeter(self) :\n",
    "        print('perimeter of rectangle is :', (self.length + self.width) * 2)\n",
    "        \n",
    "        \n",
    "my_rectangle = rectangle(4, 3)\n",
    "my_rectangle.area()\n",
    "my_rectangle.perimeter()"
   ]
  },
  {
   "cell_type": "code",
   "execution_count": 7,
   "id": "30d3d439",
   "metadata": {},
   "outputs": [
    {
     "name": "stdout",
     "output_type": "stream",
     "text": [
      "the area is : 113.04\n",
      "the perimter is : 37.68\n"
     ]
    },
    {
     "data": {
      "text/plain": [
       "False"
      ]
     },
     "execution_count": 7,
     "metadata": {},
     "output_type": "execute_result"
    }
   ],
   "source": [
    "class circle :\n",
    "    def __init__(self, center, radius):\n",
    "        self.center = center\n",
    "        self.radius = radius\n",
    "        \n",
    "    def area(self) :\n",
    "        print('the area is :', 3.14 * (self.radius ** 2))\n",
    "        \n",
    "    def perimeter(self) :\n",
    "        print('the perimter is :', 2 * 3.14 * self.radius)\n",
    "        \n",
    "    def isInside(self, x, y) :\n",
    "        return (x ** 2) + (y ** 2) == self.radius ** 2\n",
    "    \n",
    "    \n",
    "a = circle(0, 6)\n",
    "a.area()\n",
    "a.perimeter()\n",
    "a.isInside(1,3)\n"
   ]
  },
  {
   "cell_type": "code",
   "execution_count": 8,
   "id": "f07b0a66",
   "metadata": {},
   "outputs": [
    {
     "name": "stdout",
     "output_type": "stream",
     "text": [
      "enter the amount to be dposit : 5000\n",
      "your balance is :  15000.0\n",
      "enter the amount to withdraw : 10000\n",
      "your balance is :  5000.0\n",
      "balnace in the acount is : 5000.0\n"
     ]
    }
   ],
   "source": [
    "class bank :\n",
    "    def __init__(self) :\n",
    "        self.balance = 10000\n",
    "        \n",
    "    def deposit(self) :\n",
    "        amount = float(input(\"enter the amount to be dposit : \"))\n",
    "        self.balance = self.balance + amount\n",
    "        print(\"your balance is : \", self.balance)\n",
    "    \n",
    "    def withdraw(self) :\n",
    "        amount = float(input(\"enter the amount to withdraw : \"))\n",
    "        if self.balance >= amount :\n",
    "            self.balance = self.balance - amount\n",
    "            print(\"your balance is : \", self.balance)\n",
    "            \n",
    "        else :\n",
    "            print(\"insufficient balance\")\n",
    "    \n",
    "    def equily(self) :\n",
    "        print(\"balnace in the acount is :\", self.balance)\n",
    "        \n",
    "acc = bank()\n",
    "acc.deposit()\n",
    "acc.withdraw()\n",
    "acc.equily()"
   ]
  },
  {
   "cell_type": "code",
   "execution_count": null,
   "id": "58d96c3b",
   "metadata": {},
   "outputs": [],
   "source": []
  }
 ],
 "metadata": {
  "kernelspec": {
   "display_name": "Python 3 (ipykernel)",
   "language": "python",
   "name": "python3"
  },
  "language_info": {
   "codemirror_mode": {
    "name": "ipython",
    "version": 3
   },
   "file_extension": ".py",
   "mimetype": "text/x-python",
   "name": "python",
   "nbconvert_exporter": "python",
   "pygments_lexer": "ipython3",
   "version": "3.9.7"
  }
 },
 "nbformat": 4,
 "nbformat_minor": 5
}
